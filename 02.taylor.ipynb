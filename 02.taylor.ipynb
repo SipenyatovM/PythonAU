{
 "cells": [
  {
   "cell_type": "markdown",
   "metadata": {},
   "source": [
    "# Чуть-чуть математики\n",
    "\n",
    "Теперь давайте попробуем написать функцию. Например, чтобы приближённо считала косинус. Для небольших $x$:\n",
    "\n",
    "$$\\cos x = 1 - \\frac{x^2}{2!} + \\frac{x^4}{4!} - \\frac{x^6}{6!} + \\ldots + R(x) =\n",
    "\\sum_{n=0}^N (-1)^n \\frac{x^{2n}}{(2n)!} + R(x),$$\n",
    "\n",
    "причём $R(x) \\xrightarrow[N \\rightarrow \\infty]{} 0$.\n",
    "\n",
    "Это частичная сумма т.н. ряда Тейлора:\n",
    "\n",
    "$$ f(x) = f(a)+\\sum_{k=1}^\\infty {f^{(k)} (a) \\over k!} (x - a)^k. $$"
   ]
  },
  {
   "cell_type": "code",
   "execution_count": 2,
   "metadata": {},
   "outputs": [
    {
     "name": "stdout",
     "output_type": "stream",
     "text": [
      "Help on built-in function cos in module math:\n",
      "\n",
      "cos(x, /)\n",
      "    Return the cosine of x (measured in radians).\n",
      "\n",
      "None 0.9210609940028851\n",
      "Help on function my_cos in module __main__:\n",
      "\n",
      "my_cos(x)\n",
      "    Вычисление косинуса при помощи частичного суммирования ряда Тейлора\n",
      "\n",
      "None 0.921060994002885\n"
     ]
    }
   ],
   "source": [
    "import math\n",
    "\n",
    "iterations = 20\n",
    "\n",
    "\n",
    "def my_cos(x):\n",
    "    \"\"\"Вычисление косинуса при помощи частичного суммирования ряда Тейлора\"\"\"\n",
    "    x_pow = 1\n",
    "    multiplier = 1\n",
    "    partial_sum = 1\n",
    "    for n in range(1, iterations):\n",
    "        x_pow *= x**2  # В цикле постепенно считаем степень\n",
    "        multiplier *= -1 / (2 * n - 1) / (2 * n)  # (-1)^n и факториал\n",
    "        partial_sum += x_pow * multiplier\n",
    "\n",
    "    return partial_sum\n",
    "\n",
    "\n",
    "def my_exp(x):\n",
    "    \"\"\"Вычисление экспоненты при помощи частичного суммирования ряда Тейлора\"\"\"\n",
    "    x_pow = 1\n",
    "    multiplier = 1\n",
    "    partial_sum = 1\n",
    "    for n in range(1, iterations):\n",
    "        x_pow *= x  # В цикле постепенно считаем степень\n",
    "        multiplier *= 1 / n  # (-1)^n и факториал\n",
    "        partial_sum += x_pow * multiplier\n",
    "\n",
    "    return partial_sum\n",
    "\n",
    "\n",
    "print(help(math.cos), math.cos(0.4))\n",
    "print(help(my_cos), my_cos(0.4))"
   ]
  },
  {
   "cell_type": "markdown",
   "metadata": {},
   "source": [
    "выходит у нас немного неточно, но зато...\n",
    "\n",
    "... Зато наша функция умеет считать косинус комплексного аргумента, легко достигающий пяти и более в мирное время. Мнимая единица ($i$) в Питоне обозначется, как `j`.\n",
    "\n",
    "Стандартная библиотека тоже умеет, **и поточнее**."
   ]
  },
  {
   "cell_type": "code",
   "execution_count": 3,
   "metadata": {},
   "outputs": [
    {
     "name": "stdout",
     "output_type": "stream",
     "text": [
      "\"Угол\", на котором косинус достигает пяти: -2.2924316695611777j\n",
      "Достигает ли пяти наш косинус? (5.000000000000001+0j)\n",
      "А библиотечный? (5+0j)\n"
     ]
    }
   ],
   "source": [
    "import math\n",
    "import cmath\n",
    "import matplotlib.pyplot as plt\n",
    "import numpy as np\n",
    "\n",
    "complex_angle = cmath.acos(5)\n",
    "print('\"Угол\", на котором косинус достигает пяти:', complex_angle)\n",
    "\n",
    "print(\"Достигает ли пяти наш косинус?\", my_cos(complex_angle))\n",
    "print(\"А библиотечный?\", cmath.cos(complex_angle))"
   ]
  },
  {
   "cell_type": "markdown",
   "metadata": {},
   "source": [
    "А какое и где слабое место у нашего синуса?"
   ]
  },
  {
   "cell_type": "code",
   "execution_count": 5,
   "metadata": {},
   "outputs": [
    {
     "data": {
      "image/png": "[encoded data removed]",
      "text/plain": [
       "<Figure size 432x288 with 1 Axes>"
      ]
     },
     "metadata": {
      "needs_background": "light"
     },
     "output_type": "display_data"
    }
   ],
   "source": [
    "%matplotlib inline\n",
    "\n",
    "angles = np.r_[-16.25:16.25:0.01]\n",
    "plt.plot(angles, np.cos(angles))\n",
    "plt.plot(angles, np.vectorize(my_cos)(angles))\n",
    "plt.show()"
   ]
  },
  {
   "cell_type": "code",
   "execution_count": 13,
   "metadata": {},
   "outputs": [
    {
     "data": {
      "image/png": "[encoded data removed]",
      "text/plain": [
       "<Figure size 432x288 with 1 Axes>"
      ]
     },
     "metadata": {
      "needs_background": "light"
     },
     "output_type": "display_data"
    }
   ],
   "source": [
    "%matplotlib inline\n",
    "\n",
    "arg = np.r_[-18:18:0.01]\n",
    "plt.plot(arg, np.exp(arg))\n",
    "plt.plot(arg, np.vectorize(my_exp)(arg))\n",
    "plt.show()"
   ]
  },
  {
   "cell_type": "markdown",
   "metadata": {},
   "source": [
    "# Задание\n",
    "\n",
    "Реализовать вычисление частичной суммы [ряда Тейлора для одной из элементарных функций](http://ru.math.wikia.com/wiki/%D0%A0%D1%8F%D0%B4_%D0%A2%D0%B5%D0%B9%D0%BB%D0%BE%D1%80%D0%B0) (кроме синуса 😸), аналогичным образом «испытать» получившиеся функции. "
   ]
  }
 ],
 "metadata": {
  "kernelspec": {
   "display_name": "Python 3",
   "language": "python",
   "name": "python3"
  },
  "language_info": {
   "codemirror_mode": {
    "name": "ipython",
    "version": 3
   },
   "file_extension": ".py",
   "mimetype": "text/x-python",
   "name": "python",
   "nbconvert_exporter": "python",
   "pygments_lexer": "ipython3",
   "version": "3.7.1"
  }
 },
 "nbformat": 4,
 "nbformat_minor": 2
}
